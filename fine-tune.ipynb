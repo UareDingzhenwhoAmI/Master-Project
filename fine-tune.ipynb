{
 "cells": [
  {
   "cell_type": "code",
   "id": "initial_id",
   "metadata": {
    "collapsed": true,
    "jupyter": {
     "is_executing": true
    }
   },
   "source": [
    "from openai import OpenAI\n",
    "client = OpenAI(\n",
    "    api_key=\"sk-zwyamxknclpjycfbxfllubcarqnwjifyvlzujtplziusxnqn\", # 从https://cloud.siliconflow.cn/account/ak获取\n",
    "    base_url=\"https://api.siliconflow.cn/v1\"\n",
    ")\n",
    "\n",
    "messages = [\n",
    "    {\"role\": \"user\", \"content\": \"我接下给你一个事件content:March 2025 at 1057 PM Ekiti Bars Fayemi, Other From Holding Public Offices In State - Politics - NairalandNairaland Forum / Nairaland / General / Politics / Ekiti Bars Fayemi, Other From Holding Public Offices In State 26338 Views Buhari Summons Makinde, Fayemi, Other South West Governors Over amotekun / Biafra Ijaw Youths Stop Asari Dokubo From Holding Meeting In Bayelsa. / Onnoghen Convicted, Banned From Holding Public Office For 10 Years. 2 3 4 1 2 Reply Go DownEkiti Bars Fayemi, Other From Holding Public Offices In State by dammy13m 427pm On Jan 15, 2018 A White Paper released by Ekiti State Government has barred a former governor, Dr. Kayode Fayemi, from holding a public office in the state for 10 years.The state also barred his former Commissioner for Finance, Mr. Dapo Kolawole, for the same number of years.The duo were barred based on the report of the Ekiti Judicial Commission of Inquiry, which indicted them over alleged mismanagement of the states finances between October 2010 and 2014.Fayemi, now a Minister of Mines and Steel Development, was the governor during the stated period.The report declared them as unfit to hold any public office in the state.http//ekitidefender.com/breaking-ekiti-bars-fayemi-holding-public-offices-state/ 7 Likes 2 Shares Re Ekiti Bars Fayemi, Other From Holding Public Offices In State by aworatak 437pm On Jan 15, 2018 Very good. 52 Likes 6 SharesRe Ekiti Bars Fayemi, Other From Holding Public Offices In State by Mynd44 448pm On Jan 15, 2018 puff puff pass 33 Likes Re Ekiti Bars Fayemi, Other From Holding Public Offices In State by yarimom 449pm On Jan 15, 2018 KAYODE FAYEMI please go to court so that no one will have the right to say anything that is before the court. FAYEMI KAYODE congratulations in advance as governor elect of ekiti state. 48 Likes 5 SharesRe Ekiti Bars Fayemi, Other From Holding Public Offices In State by Baawaam 457pm On Jan 15, 2018 If this happened to Fayemi, what will happen to Fayose? 51 Likes 7 SharesRe Ekiti Bars Fayemi, Other From Holding Public Offices In State by midolianm 513pm On Jan 15, 2018 Is Fayose now scared of Fayemi? I wonder how hard Fayemi ll be laughing right now over this nonsense.Ekiti people no longer think with their stomach. The mumu knows this, hence this laughable move. 45 Likes 3 SharesRe Ekiti Bars Fayemi, Other From Holding Public Offices In State by seunmsgm 516pm On Jan 15, 2018 yarimoKAYODE FAYEMI please go to court so that no one will have the right to say anything that is before the court. FAYEMI KAYODE congratulations in advance as governor elect of ekiti state. Go to court over an inconsequential white paper? Abeg shift one side. The supreme court already settled this matter in 2007 when Obasanjo wanted to use the white paper of an administrative panel of inquiry to stop Atiku and some other politicians from contesting then. Only a court of competent jurisdiction can bar a qualified Nigerian from contesting or holding public office. This is just an empty order similar to the one done by Wike against Amaechi in Rivers state. 122 Likes 4 SharesRe Ekiti Bars Fayemi, Other From Holding Public Offices In State by potent5m 517pm On Jan 15, 2018 Good move by Fayose. 10 Likes 1 ShareRe Ekiti Bars Fayemi, Other From Holding Public Offices In State by Adekdammy 539pm On Jan 15, 2018 in as much as am not a fan of Fayemi, Fayose has gotten this wrong, tell me what is the difference between Fayose and Fayemi when it comes to mismanagement? 9 Likes Re Ekiti Bars Fayemi, Other From Holding Public Offices In State by Nobody 546pm On Jan 15, 2018 Adekdammyin as much as am not a fan of Fayemi, Fayose has gotten this wrong, tell me what is the difference between Fayose and Fayemi when it comes to mismanagement?Ose and Emi is the difference when it comes to mismanagement. 17 Likes Re Ekiti Bars Fayemi, Other From Holding Public Offices In State by Sealeddealm 552pm On Jan 15, 2018 Such order will not stand. 4 Likes Re Ekiti Bars Fayemi, Other From Holding Public Offices In State by Geofavorm 614pm On Jan 15, 2018 ...Re Ekiti Bars Fayemi, Other From Holding Public Offices In State by oyetunderm 614pm On Jan 15, 2018 Ekiti? When are we going to have leaders who will stop operating like wrestlers inside the ring. Chai! When are they going to banish hunger, poverty, unemployement and poor salaries? Ifayemi and Ifayose political nonsense must end... let them go and banish themselves in the shrine of the ifa god that was responsible for their surnames. 5 Likes Re Ekiti Bars Fayemi, Other From Holding Public Offices In State by Nobody 615pm On Jan 15, 2018 4 Likes Re Ekiti Bars Fayemi, Other From Holding Public Offices In State by omenkaLivesm 615pm On Jan 15, 2018 Special breed of cows form that land according to Ohanaeze should come defend this.Re Ekiti Bars Fayemi, Other From Holding Public Offices In State by babyfaceafrica 615pm On Jan 15, 2018 JokersRe Ekiti Bars Fayemi, Other From Holding Public Offices In State by Briskingm 615pm On Jan 15, 2018 Re Ekiti Bars Fayemi, Other From Holding Public Offices In State by Nobody 616pm On Jan 15, 2018 5 Likes 1\"\"，\"\n",
    "                                \"你告诉我帮我分析可能造成的政治和经济影响，按照下面的格式给我\"\n",
    "                                \"event_type,description,source,location,impact_industries,summary,explanation,time_window,causal_strength,reasoning_path,impact_summary,indicator,direction,magnitude,confidence,time_horizon,affected_areas\"\n",
    "    \n",
    "     },\n",
    "]\n",
    "\n",
    "response = client.chat.completions.create(\n",
    "    model=\"ft:LoRA/Qwen/Qwen2.5-7B-Instruct:7va89ris0d:ReasoningModel:nqhlaeyqycogkzlbrrjr\",\n",
    "    messages=messages,\n",
    "    stream=True,\n",
    "    max_tokens=4096\n",
    ")\n",
    "\n",
    "for chunk in response:\n",
    "    print(chunk.choices[0].delta.content, end='')"
   ],
   "outputs": [],
   "execution_count": null
  },
  {
   "metadata": {},
   "cell_type": "code",
   "outputs": [],
   "execution_count": null,
   "source": "",
   "id": "1cfeb48527fed438"
  }
 ],
 "metadata": {
  "kernelspec": {
   "display_name": "Python 3",
   "language": "python",
   "name": "python3"
  },
  "language_info": {
   "codemirror_mode": {
    "name": "ipython",
    "version": 2
   },
   "file_extension": ".py",
   "mimetype": "text/x-python",
   "name": "python",
   "nbconvert_exporter": "python",
   "pygments_lexer": "ipython2",
   "version": "2.7.6"
  }
 },
 "nbformat": 4,
 "nbformat_minor": 5
}
